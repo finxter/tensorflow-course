{
 "cells": [
  {
   "cell_type": "markdown",
   "id": "c124e6ab",
   "metadata": {},
   "source": [
    "# Regression: Long Short-Term Memory Networks"
   ]
  },
  {
   "cell_type": "markdown",
   "id": "7a5afdad",
   "metadata": {},
   "source": [
    "To predict the number of passengers of an airline in a particular month, based on its previous month value, using the LSTM network.\n",
    "<br>\n",
    "Data source: https://www.kaggle.com/chirag19/air-passengers\n",
    "<br>\n",
    "Reference for this tutorial: https://kgptalkie.com/airline-passenger-prediction-using-rnn-lstm/\n",
    "\n",
    "Concepts:\n",
    "- Classification vs regression, image vs time series data.\n",
    "- Recurrent neural network.\n",
    "- LSTM components: input, output, forget gates."
   ]
  },
  {
   "cell_type": "markdown",
   "id": "2b36bc5b",
   "metadata": {},
   "source": [
    "# Install and Import Modules"
   ]
  },
  {
   "cell_type": "code",
   "execution_count": 1,
   "id": "63a5f900",
   "metadata": {},
   "outputs": [
    {
     "name": "stdout",
     "output_type": "stream",
     "text": [
      "Requirement already satisfied: tensorflow in c:\\users\\nghwe\\anaconda3\\envs\\tensorflow-course-venv\\lib\\site-packages (2.5.0)\n",
      "Requirement already satisfied: opt-einsum~=3.3.0 in c:\\users\\nghwe\\anaconda3\\envs\\tensorflow-course-venv\\lib\\site-packages (from tensorflow) (3.3.0)\n",
      "Requirement already satisfied: typing-extensions~=3.7.4 in c:\\users\\nghwe\\anaconda3\\envs\\tensorflow-course-venv\\lib\\site-packages (from tensorflow) (3.7.4.3)\n",
      "Requirement already satisfied: google-pasta~=0.2 in c:\\users\\nghwe\\anaconda3\\envs\\tensorflow-course-venv\\lib\\site-packages (from tensorflow) (0.2.0)\n",
      "Requirement already satisfied: flatbuffers~=1.12.0 in c:\\users\\nghwe\\anaconda3\\envs\\tensorflow-course-venv\\lib\\site-packages (from tensorflow) (1.12)\n",
      "Requirement already satisfied: absl-py~=0.10 in c:\\users\\nghwe\\anaconda3\\envs\\tensorflow-course-venv\\lib\\site-packages (from tensorflow) (0.12.0)\n",
      "Requirement already satisfied: protobuf>=3.9.2 in c:\\users\\nghwe\\anaconda3\\envs\\tensorflow-course-venv\\lib\\site-packages (from tensorflow) (3.17.0)\n",
      "Requirement already satisfied: tensorboard~=2.5 in c:\\users\\nghwe\\anaconda3\\envs\\tensorflow-course-venv\\lib\\site-packages (from tensorflow) (2.5.0)\n",
      "Requirement already satisfied: keras-nightly~=2.5.0.dev in c:\\users\\nghwe\\anaconda3\\envs\\tensorflow-course-venv\\lib\\site-packages (from tensorflow) (2.5.0.dev2021032900)\n",
      "Requirement already satisfied: gast==0.4.0 in c:\\users\\nghwe\\anaconda3\\envs\\tensorflow-course-venv\\lib\\site-packages (from tensorflow) (0.4.0)\n",
      "Requirement already satisfied: astunparse~=1.6.3 in c:\\users\\nghwe\\anaconda3\\envs\\tensorflow-course-venv\\lib\\site-packages (from tensorflow) (1.6.3)\n",
      "Requirement already satisfied: termcolor~=1.1.0 in c:\\users\\nghwe\\anaconda3\\envs\\tensorflow-course-venv\\lib\\site-packages (from tensorflow) (1.1.0)\n",
      "Requirement already satisfied: keras-preprocessing~=1.1.2 in c:\\users\\nghwe\\anaconda3\\envs\\tensorflow-course-venv\\lib\\site-packages (from tensorflow) (1.1.2)\n",
      "Requirement already satisfied: h5py~=3.1.0 in c:\\users\\nghwe\\anaconda3\\envs\\tensorflow-course-venv\\lib\\site-packages (from tensorflow) (3.1.0)\n",
      "Requirement already satisfied: tensorflow-estimator<2.6.0,>=2.5.0rc0 in c:\\users\\nghwe\\anaconda3\\envs\\tensorflow-course-venv\\lib\\site-packages (from tensorflow) (2.5.0)\n",
      "Requirement already satisfied: numpy~=1.19.2 in c:\\users\\nghwe\\anaconda3\\envs\\tensorflow-course-venv\\lib\\site-packages (from tensorflow) (1.19.5)\n",
      "Requirement already satisfied: wrapt~=1.12.1 in c:\\users\\nghwe\\anaconda3\\envs\\tensorflow-course-venv\\lib\\site-packages (from tensorflow) (1.12.1)\n",
      "Requirement already satisfied: grpcio~=1.34.0 in c:\\users\\nghwe\\anaconda3\\envs\\tensorflow-course-venv\\lib\\site-packages (from tensorflow) (1.34.1)\n",
      "Requirement already satisfied: wheel~=0.35 in c:\\users\\nghwe\\anaconda3\\envs\\tensorflow-course-venv\\lib\\site-packages (from tensorflow) (0.36.2)\n",
      "Requirement already satisfied: six~=1.15.0 in c:\\users\\nghwe\\anaconda3\\envs\\tensorflow-course-venv\\lib\\site-packages (from tensorflow) (1.15.0)\n",
      "Requirement already satisfied: tensorboard-plugin-wit>=1.6.0 in c:\\users\\nghwe\\anaconda3\\envs\\tensorflow-course-venv\\lib\\site-packages (from tensorboard~=2.5->tensorflow) (1.8.0)\n",
      "Requirement already satisfied: tensorboard-data-server<0.7.0,>=0.6.0 in c:\\users\\nghwe\\anaconda3\\envs\\tensorflow-course-venv\\lib\\site-packages (from tensorboard~=2.5->tensorflow) (0.6.1)\n",
      "Requirement already satisfied: google-auth<2,>=1.6.3 in c:\\users\\nghwe\\anaconda3\\envs\\tensorflow-course-venv\\lib\\site-packages (from tensorboard~=2.5->tensorflow) (1.30.0)\n",
      "Requirement already satisfied: markdown>=2.6.8 in c:\\users\\nghwe\\anaconda3\\envs\\tensorflow-course-venv\\lib\\site-packages (from tensorboard~=2.5->tensorflow) (3.3.4)\n",
      "Requirement already satisfied: google-auth-oauthlib<0.5,>=0.4.1 in c:\\users\\nghwe\\anaconda3\\envs\\tensorflow-course-venv\\lib\\site-packages (from tensorboard~=2.5->tensorflow) (0.4.4)\n",
      "Requirement already satisfied: requests<3,>=2.21.0 in c:\\users\\nghwe\\anaconda3\\envs\\tensorflow-course-venv\\lib\\site-packages (from tensorboard~=2.5->tensorflow) (2.25.1)\n",
      "Requirement already satisfied: werkzeug>=0.11.15 in c:\\users\\nghwe\\anaconda3\\envs\\tensorflow-course-venv\\lib\\site-packages (from tensorboard~=2.5->tensorflow) (2.0.1)\n",
      "Requirement already satisfied: setuptools>=41.0.0 in c:\\users\\nghwe\\anaconda3\\envs\\tensorflow-course-venv\\lib\\site-packages (from tensorboard~=2.5->tensorflow) (52.0.0.post20210125)\n",
      "Requirement already satisfied: cachetools<5.0,>=2.0.0 in c:\\users\\nghwe\\anaconda3\\envs\\tensorflow-course-venv\\lib\\site-packages (from google-auth<2,>=1.6.3->tensorboard~=2.5->tensorflow) (4.2.2)\n",
      "Requirement already satisfied: rsa<5,>=3.1.4 in c:\\users\\nghwe\\anaconda3\\envs\\tensorflow-course-venv\\lib\\site-packages (from google-auth<2,>=1.6.3->tensorboard~=2.5->tensorflow) (4.7.2)\n",
      "Requirement already satisfied: pyasn1-modules>=0.2.1 in c:\\users\\nghwe\\anaconda3\\envs\\tensorflow-course-venv\\lib\\site-packages (from google-auth<2,>=1.6.3->tensorboard~=2.5->tensorflow) (0.2.8)\n",
      "Requirement already satisfied: requests-oauthlib>=0.7.0 in c:\\users\\nghwe\\anaconda3\\envs\\tensorflow-course-venv\\lib\\site-packages (from google-auth-oauthlib<0.5,>=0.4.1->tensorboard~=2.5->tensorflow) (1.3.0)\n",
      "Requirement already satisfied: pyasn1<0.5.0,>=0.4.6 in c:\\users\\nghwe\\anaconda3\\envs\\tensorflow-course-venv\\lib\\site-packages (from pyasn1-modules>=0.2.1->google-auth<2,>=1.6.3->tensorboard~=2.5->tensorflow) (0.4.8)\n",
      "Requirement already satisfied: idna<3,>=2.5 in c:\\users\\nghwe\\anaconda3\\envs\\tensorflow-course-venv\\lib\\site-packages (from requests<3,>=2.21.0->tensorboard~=2.5->tensorflow) (2.10)\n",
      "Requirement already satisfied: certifi>=2017.4.17 in c:\\users\\nghwe\\anaconda3\\envs\\tensorflow-course-venv\\lib\\site-packages (from requests<3,>=2.21.0->tensorboard~=2.5->tensorflow) (2020.12.5)\n",
      "Requirement already satisfied: chardet<5,>=3.0.2 in c:\\users\\nghwe\\anaconda3\\envs\\tensorflow-course-venv\\lib\\site-packages (from requests<3,>=2.21.0->tensorboard~=2.5->tensorflow) (4.0.0)\n",
      "Requirement already satisfied: urllib3<1.27,>=1.21.1 in c:\\users\\nghwe\\anaconda3\\envs\\tensorflow-course-venv\\lib\\site-packages (from requests<3,>=2.21.0->tensorboard~=2.5->tensorflow) (1.26.4)\n",
      "Requirement already satisfied: oauthlib>=3.0.0 in c:\\users\\nghwe\\anaconda3\\envs\\tensorflow-course-venv\\lib\\site-packages (from requests-oauthlib>=0.7.0->google-auth-oauthlib<0.5,>=0.4.1->tensorboard~=2.5->tensorflow) (3.1.0)\n",
      "Requirement already satisfied: matplotlib in c:\\users\\nghwe\\anaconda3\\envs\\tensorflow-course-venv\\lib\\site-packages (3.4.2)\n",
      "Requirement already satisfied: numpy>=1.16 in c:\\users\\nghwe\\anaconda3\\envs\\tensorflow-course-venv\\lib\\site-packages (from matplotlib) (1.19.5)\n",
      "Requirement already satisfied: python-dateutil>=2.7 in c:\\users\\nghwe\\anaconda3\\envs\\tensorflow-course-venv\\lib\\site-packages (from matplotlib) (2.8.1)\n",
      "Requirement already satisfied: pillow>=6.2.0 in c:\\users\\nghwe\\anaconda3\\envs\\tensorflow-course-venv\\lib\\site-packages (from matplotlib) (8.2.0)\n",
      "Requirement already satisfied: kiwisolver>=1.0.1 in c:\\users\\nghwe\\anaconda3\\envs\\tensorflow-course-venv\\lib\\site-packages (from matplotlib) (1.3.1)\n",
      "Requirement already satisfied: cycler>=0.10 in c:\\users\\nghwe\\anaconda3\\envs\\tensorflow-course-venv\\lib\\site-packages (from matplotlib) (0.10.0)\n",
      "Requirement already satisfied: pyparsing>=2.2.1 in c:\\users\\nghwe\\anaconda3\\envs\\tensorflow-course-venv\\lib\\site-packages (from matplotlib) (2.4.7)\n",
      "Requirement already satisfied: six in c:\\users\\nghwe\\anaconda3\\envs\\tensorflow-course-venv\\lib\\site-packages (from cycler>=0.10->matplotlib) (1.15.0)\n",
      "Requirement already satisfied: numpy in c:\\users\\nghwe\\anaconda3\\envs\\tensorflow-course-venv\\lib\\site-packages (1.19.5)\n",
      "Requirement already satisfied: pandas in c:\\users\\nghwe\\anaconda3\\envs\\tensorflow-course-venv\\lib\\site-packages (1.2.4)\n",
      "Requirement already satisfied: pytz>=2017.3 in c:\\users\\nghwe\\anaconda3\\envs\\tensorflow-course-venv\\lib\\site-packages (from pandas) (2021.1)\n",
      "Requirement already satisfied: python-dateutil>=2.7.3 in c:\\users\\nghwe\\anaconda3\\envs\\tensorflow-course-venv\\lib\\site-packages (from pandas) (2.8.1)\n",
      "Requirement already satisfied: numpy>=1.16.5 in c:\\users\\nghwe\\anaconda3\\envs\\tensorflow-course-venv\\lib\\site-packages (from pandas) (1.19.5)\n",
      "Requirement already satisfied: six>=1.5 in c:\\users\\nghwe\\anaconda3\\envs\\tensorflow-course-venv\\lib\\site-packages (from python-dateutil>=2.7.3->pandas) (1.15.0)\n"
     ]
    },
    {
     "name": "stdout",
     "output_type": "stream",
     "text": [
      "Requirement already satisfied: scikit-learn in c:\\users\\nghwe\\anaconda3\\envs\\tensorflow-course-venv\\lib\\site-packages (0.24.2)\n",
      "Requirement already satisfied: scipy>=0.19.1 in c:\\users\\nghwe\\anaconda3\\envs\\tensorflow-course-venv\\lib\\site-packages (from scikit-learn) (1.6.3)\n",
      "Requirement already satisfied: numpy>=1.13.3 in c:\\users\\nghwe\\anaconda3\\envs\\tensorflow-course-venv\\lib\\site-packages (from scikit-learn) (1.19.5)\n",
      "Requirement already satisfied: joblib>=0.11 in c:\\users\\nghwe\\anaconda3\\envs\\tensorflow-course-venv\\lib\\site-packages (from scikit-learn) (1.0.1)\n",
      "Requirement already satisfied: threadpoolctl>=2.0.0 in c:\\users\\nghwe\\anaconda3\\envs\\tensorflow-course-venv\\lib\\site-packages (from scikit-learn) (2.1.0)\n"
     ]
    }
   ],
   "source": [
    "!pip install --upgrade tensorflow\n",
    "!pip install matplotlib\n",
    "!pip install numpy\n",
    "!pip install pandas\n",
    "!pip install scikit-learn"
   ]
  },
  {
   "cell_type": "code",
   "execution_count": 2,
   "id": "b037c109",
   "metadata": {},
   "outputs": [],
   "source": [
    "import numpy as np\n",
    "import matplotlib.pyplot as plt\n",
    "import pandas as pd\n",
    "from sklearn.preprocessing import MinMaxScaler\n",
    "from tensorflow.keras.models import Sequential\n",
    "from tensorflow.keras.layers import LSTM, Dense"
   ]
  },
  {
   "cell_type": "markdown",
   "id": "c3a758cb",
   "metadata": {},
   "source": [
    "# Load Dataset and Preprocess Data"
   ]
  },
  {
   "cell_type": "code",
   "execution_count": 3,
   "id": "6192ab0c",
   "metadata": {},
   "outputs": [
    {
     "data": {
      "text/html": [
       "<div>\n",
       "<style scoped>\n",
       "    .dataframe tbody tr th:only-of-type {\n",
       "        vertical-align: middle;\n",
       "    }\n",
       "\n",
       "    .dataframe tbody tr th {\n",
       "        vertical-align: top;\n",
       "    }\n",
       "\n",
       "    .dataframe thead th {\n",
       "        text-align: right;\n",
       "    }\n",
       "</style>\n",
       "<table border=\"1\" class=\"dataframe\">\n",
       "  <thead>\n",
       "    <tr style=\"text-align: right;\">\n",
       "      <th></th>\n",
       "      <th>Month</th>\n",
       "      <th>#Passengers</th>\n",
       "    </tr>\n",
       "  </thead>\n",
       "  <tbody>\n",
       "    <tr>\n",
       "      <th>0</th>\n",
       "      <td>1949-01</td>\n",
       "      <td>112</td>\n",
       "    </tr>\n",
       "    <tr>\n",
       "      <th>1</th>\n",
       "      <td>1949-02</td>\n",
       "      <td>118</td>\n",
       "    </tr>\n",
       "    <tr>\n",
       "      <th>2</th>\n",
       "      <td>1949-03</td>\n",
       "      <td>132</td>\n",
       "    </tr>\n",
       "    <tr>\n",
       "      <th>3</th>\n",
       "      <td>1949-04</td>\n",
       "      <td>129</td>\n",
       "    </tr>\n",
       "    <tr>\n",
       "      <th>4</th>\n",
       "      <td>1949-05</td>\n",
       "      <td>121</td>\n",
       "    </tr>\n",
       "  </tbody>\n",
       "</table>\n",
       "</div>"
      ],
      "text/plain": [
       "     Month  #Passengers\n",
       "0  1949-01          112\n",
       "1  1949-02          118\n",
       "2  1949-03          132\n",
       "3  1949-04          129\n",
       "4  1949-05          121"
      ]
     },
     "execution_count": 3,
     "metadata": {},
     "output_type": "execute_result"
    }
   ],
   "source": [
    "dataset = pd.read_csv('AirPassengers.csv')\n",
    "dataset.head()"
   ]
  },
  {
   "cell_type": "code",
   "execution_count": 4,
   "id": "0609dece",
   "metadata": {},
   "outputs": [
    {
     "data": {
      "text/plain": [
       "(144, 2)"
      ]
     },
     "execution_count": 4,
     "metadata": {},
     "output_type": "execute_result"
    }
   ],
   "source": [
    "dataset.shape"
   ]
  },
  {
   "cell_type": "code",
   "execution_count": 5,
   "id": "34a4d73c",
   "metadata": {},
   "outputs": [
    {
     "data": {
      "text/plain": [
       "0    112\n",
       "1    118\n",
       "2    132\n",
       "3    129\n",
       "4    121\n",
       "Name: #Passengers, dtype: int64"
      ]
     },
     "execution_count": 5,
     "metadata": {},
     "output_type": "execute_result"
    }
   ],
   "source": [
    "dataset_passengers = dataset['#Passengers']\n",
    "dataset_passengers.head()"
   ]
  },
  {
   "cell_type": "code",
   "execution_count": 6,
   "id": "7296c69f",
   "metadata": {},
   "outputs": [
    {
     "data": {
      "text/plain": [
       "array([[112],\n",
       "       [118],\n",
       "       [132],\n",
       "       [129],\n",
       "       [121],\n",
       "       [135],\n",
       "       [148],\n",
       "       [148],\n",
       "       [136],\n",
       "       [119],\n",
       "       [104],\n",
       "       [118],\n",
       "       [115],\n",
       "       [126],\n",
       "       [141],\n",
       "       [135],\n",
       "       [125],\n",
       "       [149],\n",
       "       [170],\n",
       "       [170],\n",
       "       [158],\n",
       "       [133],\n",
       "       [114],\n",
       "       [140],\n",
       "       [145],\n",
       "       [150],\n",
       "       [178],\n",
       "       [163],\n",
       "       [172],\n",
       "       [178],\n",
       "       [199],\n",
       "       [199],\n",
       "       [184],\n",
       "       [162],\n",
       "       [146],\n",
       "       [166],\n",
       "       [171],\n",
       "       [180],\n",
       "       [193],\n",
       "       [181],\n",
       "       [183],\n",
       "       [218],\n",
       "       [230],\n",
       "       [242],\n",
       "       [209],\n",
       "       [191],\n",
       "       [172],\n",
       "       [194],\n",
       "       [196],\n",
       "       [196],\n",
       "       [236],\n",
       "       [235],\n",
       "       [229],\n",
       "       [243],\n",
       "       [264],\n",
       "       [272],\n",
       "       [237],\n",
       "       [211],\n",
       "       [180],\n",
       "       [201],\n",
       "       [204],\n",
       "       [188],\n",
       "       [235],\n",
       "       [227],\n",
       "       [234],\n",
       "       [264],\n",
       "       [302],\n",
       "       [293],\n",
       "       [259],\n",
       "       [229],\n",
       "       [203],\n",
       "       [229],\n",
       "       [242],\n",
       "       [233],\n",
       "       [267],\n",
       "       [269],\n",
       "       [270],\n",
       "       [315],\n",
       "       [364],\n",
       "       [347],\n",
       "       [312],\n",
       "       [274],\n",
       "       [237],\n",
       "       [278],\n",
       "       [284],\n",
       "       [277],\n",
       "       [317],\n",
       "       [313],\n",
       "       [318],\n",
       "       [374],\n",
       "       [413],\n",
       "       [405],\n",
       "       [355],\n",
       "       [306],\n",
       "       [271],\n",
       "       [306],\n",
       "       [315],\n",
       "       [301],\n",
       "       [356],\n",
       "       [348],\n",
       "       [355],\n",
       "       [422],\n",
       "       [465],\n",
       "       [467],\n",
       "       [404],\n",
       "       [347],\n",
       "       [305],\n",
       "       [336],\n",
       "       [340],\n",
       "       [318],\n",
       "       [362],\n",
       "       [348],\n",
       "       [363],\n",
       "       [435],\n",
       "       [491],\n",
       "       [505],\n",
       "       [404],\n",
       "       [359],\n",
       "       [310],\n",
       "       [337],\n",
       "       [360],\n",
       "       [342],\n",
       "       [406],\n",
       "       [396],\n",
       "       [420],\n",
       "       [472],\n",
       "       [548],\n",
       "       [559],\n",
       "       [463],\n",
       "       [407],\n",
       "       [362],\n",
       "       [405],\n",
       "       [417],\n",
       "       [391],\n",
       "       [419],\n",
       "       [461],\n",
       "       [472],\n",
       "       [535],\n",
       "       [622],\n",
       "       [606],\n",
       "       [508],\n",
       "       [461],\n",
       "       [390],\n",
       "       [432]], dtype=int64)"
      ]
     },
     "execution_count": 6,
     "metadata": {},
     "output_type": "execute_result"
    }
   ],
   "source": [
    "# convert to numpy array\n",
    "\n",
    "dataset_passengers = np.array(dataset_passengers).reshape(-1,1)\n",
    "dataset_passengers"
   ]
  },
  {
   "cell_type": "code",
   "execution_count": 7,
   "id": "3289ca01",
   "metadata": {},
   "outputs": [
    {
     "data": {
      "text/plain": [
       "Text(0, 0.5, 'Number of Passengers')"
      ]
     },
     "execution_count": 7,
     "metadata": {},
     "output_type": "execute_result"
    },
    {
     "data": {
      "image/png": "[encoded data removed]",
      "text/plain": [
       "<Figure size 432x288 with 1 Axes>"
      ]
     },
     "metadata": {
      "needs_background": "light"
     },
     "output_type": "display_data"
    }
   ],
   "source": [
    "# plot passengers\n",
    "\n",
    "plt.plot(dataset_passengers)\n",
    "plt.xlabel('Months')\n",
    "plt.ylabel('Number of Passengers')"
   ]
  },
  {
   "cell_type": "code",
   "execution_count": 8,
   "id": "07efb8a5",
   "metadata": {},
   "outputs": [
    {
     "data": {
      "text/plain": [
       "(0.0, 1.0)"
      ]
     },
     "execution_count": 8,
     "metadata": {},
     "output_type": "execute_result"
    }
   ],
   "source": [
    "# scale the range of values with range 0-1\n",
    "\n",
    "scaler = MinMaxScaler()\n",
    "dataset_passengers = scaler.fit_transform(dataset_passengers)\n",
    "dataset_passengers.min(), dataset_passengers.max()"
   ]
  },
  {
   "cell_type": "code",
   "execution_count": 9,
   "id": "b1dfece0",
   "metadata": {},
   "outputs": [
    {
     "name": "stdout",
     "output_type": "stream",
     "text": [
      "Train set shape: (100, 1)\n",
      "Test set shape: (44, 1)\n"
     ]
    }
   ],
   "source": [
    "# train test split. First 100 months = train set. 101 months onwards = test set.\n",
    "\n",
    "train_size = 100\n",
    "\n",
    "train = dataset_passengers[:train_size, :]\n",
    "print(f\"Train set shape: {train.shape}\")\n",
    "\n",
    "test = dataset_passengers[train_size:, :]\n",
    "print(f\"Test set shape: {test.shape}\")"
   ]
  },
  {
   "cell_type": "code",
   "execution_count": 10,
   "id": "6682e266",
   "metadata": {},
   "outputs": [],
   "source": [
    "# make X and y. Given number of passenger on month x, predict number of passenger on month x+1.\n",
    "# for train with shape 100: X = index 0 -> 98, y = index 1 -> 99.\n",
    "# single: X = index 0, y = index 1, continue for the whole array.\n",
    "\n",
    "X_train, y_train = [], []\n",
    "\n",
    "for i in range(len(train)-2):\n",
    "    X_train.append(train[i:i+1, 0])  # single value \n",
    "    y_train.append(train[i+1, 0])\n",
    "\n",
    "X_train = np.array(X_train)\n",
    "y_train = np.array(y_train)"
   ]
  },
  {
   "cell_type": "code",
   "execution_count": 11,
   "id": "32b62279",
   "metadata": {},
   "outputs": [
    {
     "name": "stdout",
     "output_type": "stream",
     "text": [
      "X_train[0] = [0.01544402]\n",
      "X_train shape = (98, 1)\n",
      "y_train[0] = 0.02702702702702703\n",
      "y_train shape = (98,)\n",
      "X_train[1] = [0.02702703]\n",
      "X_train shape = (98, 1)\n",
      "y_train[1] = 0.05405405405405403\n",
      "y_train shape = (98,)\n"
     ]
    }
   ],
   "source": [
    "print(f\"X_train[0] = {X_train[0]}\\nX_train shape = {X_train.shape}\")\n",
    "print(f\"y_train[0] = {y_train[0]}\\ny_train shape = {y_train.shape}\")\n",
    "\n",
    "print(f\"X_train[1] = {X_train[1]}\\nX_train shape = {X_train.shape}\")\n",
    "print(f\"y_train[1] = {y_train[1]}\\ny_train shape = {y_train.shape}\")"
   ]
  },
  {
   "cell_type": "code",
   "execution_count": 12,
   "id": "5c316f19",
   "metadata": {},
   "outputs": [],
   "source": [
    "# do the same thing with test set\n",
    "\n",
    "X_test, y_test = [], []\n",
    "\n",
    "for i in range(len(test)-2):\n",
    "    X_test.append(test[i:i+1, 0])  # single value \n",
    "    y_test.append(test[i+1, 0])\n",
    "\n",
    "X_test = np.array(X_test)\n",
    "y_test = np.array(y_test)"
   ]
  },
  {
   "cell_type": "code",
   "execution_count": 13,
   "id": "e272f181",
   "metadata": {},
   "outputs": [
    {
     "name": "stdout",
     "output_type": "stream",
     "text": [
      "X_test[0] = [0.48455598]\n",
      "X_test shape = (42, 1)\n",
      "y_test[0] = 0.6138996138996139\n",
      "y_test shape = (42,)\n",
      "X_test[1] = [0.61389961]\n",
      "X_test shape = (42, 1)\n",
      "y_test[1] = 0.6969111969111969\n",
      "y_test shape = (42,)\n"
     ]
    }
   ],
   "source": [
    "print(f\"X_test[0] = {X_test[0]}\\nX_test shape = {X_test.shape}\")\n",
    "print(f\"y_test[0] = {y_test[0]}\\ny_test shape = {y_test.shape}\")\n",
    "\n",
    "print(f\"X_test[1] = {X_test[1]}\\nX_test shape = {X_test.shape}\")\n",
    "print(f\"y_test[1] = {y_test[1]}\\ny_test shape = {y_test.shape}\")"
   ]
  },
  {
   "cell_type": "code",
   "execution_count": 14,
   "id": "44dfe32f",
   "metadata": {},
   "outputs": [
    {
     "name": "stdout",
     "output_type": "stream",
     "text": [
      "X_train.shape = (98, 1, 1)\n",
      "X_test.shape = (42, 1, 1)\n"
     ]
    }
   ],
   "source": [
    "# make input data three dimensional for neural network\n",
    "# train: (98, 1) -> (98, 1, 1)\n",
    "\n",
    "X_train = X_train.reshape(X_train.shape[0], X_train.shape[1], 1)\n",
    "X_test = X_test.reshape(X_test.shape[0], X_test.shape[1], 1)\n",
    "\n",
    "print(f\"X_train.shape = {X_train.shape}\\nX_test.shape = {X_test.shape}\")"
   ]
  },
  {
   "cell_type": "markdown",
   "id": "f495a52b",
   "metadata": {},
   "source": [
    "# Train and Evaluate an LSTM Model"
   ]
  },
  {
   "cell_type": "code",
   "execution_count": 15,
   "id": "76b22e66",
   "metadata": {},
   "outputs": [],
   "source": [
    "model = Sequential()\n",
    "model.add(LSTM(5, input_shape=(1,1)))\n",
    "model.add(Dense(1))"
   ]
  },
  {
   "cell_type": "code",
   "execution_count": 16,
   "id": "03f4a227",
   "metadata": {},
   "outputs": [
    {
     "name": "stdout",
     "output_type": "stream",
     "text": [
      "Model: \"sequential\"\n",
      "_________________________________________________________________\n",
      "Layer (type)                 Output Shape              Param #   \n",
      "=================================================================\n",
      "lstm (LSTM)                  (None, 5)                 140       \n",
      "_________________________________________________________________\n",
      "dense (Dense)                (None, 1)                 6         \n",
      "=================================================================\n",
      "Total params: 146\n",
      "Trainable params: 146\n",
      "Non-trainable params: 0\n",
      "_________________________________________________________________\n"
     ]
    }
   ],
   "source": [
    "model.summary()"
   ]
  },
  {
   "cell_type": "code",
   "execution_count": 17,
   "id": "6d8cccb7",
   "metadata": {},
   "outputs": [],
   "source": [
    "model.compile(loss='mean_squared_error', optimizer='adam')"
   ]
  },
  {
   "cell_type": "code",
   "execution_count": 18,
   "id": "33592fd2",
   "metadata": {},
   "outputs": [
    {
     "name": "stdout",
     "output_type": "stream",
     "text": [
      "Epoch 1/50\n",
      "98/98 [==============================] - 2s 2ms/step - loss: 0.0297\n",
      "Epoch 2/50\n",
      "98/98 [==============================] - 0s 1ms/step - loss: 0.0126\n",
      "Epoch 3/50\n",
      "98/98 [==============================] - 0s 2ms/step - loss: 0.0105\n",
      "Epoch 4/50\n",
      "98/98 [==============================] - 0s 2ms/step - loss: 0.0095\n",
      "Epoch 5/50\n",
      "98/98 [==============================] - 0s 2ms/step - loss: 0.0085\n",
      "Epoch 6/50\n",
      "98/98 [==============================] - 0s 1ms/step - loss: 0.0076\n",
      "Epoch 7/50\n",
      "98/98 [==============================] - 0s 1ms/step - loss: 0.0065\n",
      "Epoch 8/50\n",
      "98/98 [==============================] - 0s 2ms/step - loss: 0.0056\n",
      "Epoch 9/50\n",
      "98/98 [==============================] - 0s 1ms/step - loss: 0.0048\n",
      "Epoch 10/50\n",
      "98/98 [==============================] - 0s 1ms/step - loss: 0.0041\n",
      "Epoch 11/50\n",
      "98/98 [==============================] - 0s 1ms/step - loss: 0.0036\n",
      "Epoch 12/50\n",
      "98/98 [==============================] - 0s 2ms/step - loss: 0.0031\n",
      "Epoch 13/50\n",
      "98/98 [==============================] - 0s 1ms/step - loss: 0.0028\n",
      "Epoch 14/50\n",
      "98/98 [==============================] - 0s 1ms/step - loss: 0.0025\n",
      "Epoch 15/50\n",
      "98/98 [==============================] - 0s 2ms/step - loss: 0.0024\n",
      "Epoch 16/50\n",
      "98/98 [==============================] - 0s 2ms/step - loss: 0.0023\n",
      "Epoch 17/50\n",
      "98/98 [==============================] - 0s 1ms/step - loss: 0.0022\n",
      "Epoch 18/50\n",
      "98/98 [==============================] - 0s 1ms/step - loss: 0.0022\n",
      "Epoch 19/50\n",
      "98/98 [==============================] - 0s 1ms/step - loss: 0.0021\n",
      "Epoch 20/50\n",
      "98/98 [==============================] - 0s 1ms/step - loss: 0.0022\n",
      "Epoch 21/50\n",
      "98/98 [==============================] - 0s 1ms/step - loss: 0.0022\n",
      "Epoch 22/50\n",
      "98/98 [==============================] - 0s 1ms/step - loss: 0.0022\n",
      "Epoch 23/50\n",
      "98/98 [==============================] - 0s 1ms/step - loss: 0.0022\n",
      "Epoch 24/50\n",
      "98/98 [==============================] - 0s 1ms/step - loss: 0.0022\n",
      "Epoch 25/50\n",
      "98/98 [==============================] - 0s 1ms/step - loss: 0.0021\n",
      "Epoch 26/50\n",
      "98/98 [==============================] - 0s 1ms/step - loss: 0.0020\n",
      "Epoch 27/50\n",
      "98/98 [==============================] - 0s 1ms/step - loss: 0.0023\n",
      "Epoch 28/50\n",
      "98/98 [==============================] - 0s 1ms/step - loss: 0.0023\n",
      "Epoch 29/50\n",
      "98/98 [==============================] - 0s 1ms/step - loss: 0.0021\n",
      "Epoch 30/50\n",
      "98/98 [==============================] - 0s 1ms/step - loss: 0.0022\n",
      "Epoch 31/50\n",
      "98/98 [==============================] - 0s 1ms/step - loss: 0.0021\n",
      "Epoch 32/50\n",
      "98/98 [==============================] - 0s 1ms/step - loss: 0.0021\n",
      "Epoch 33/50\n",
      "98/98 [==============================] - 0s 1ms/step - loss: 0.0022\n",
      "Epoch 34/50\n",
      "98/98 [==============================] - 0s 2ms/step - loss: 0.0022\n",
      "Epoch 35/50\n",
      "98/98 [==============================] - 0s 1ms/step - loss: 0.0022\n",
      "Epoch 36/50\n",
      "98/98 [==============================] - 0s 1ms/step - loss: 0.0021\n",
      "Epoch 37/50\n",
      "98/98 [==============================] - 0s 1ms/step - loss: 0.0021\n",
      "Epoch 38/50\n",
      "98/98 [==============================] - 0s 1ms/step - loss: 0.0021\n",
      "Epoch 39/50\n",
      "98/98 [==============================] - 0s 1ms/step - loss: 0.0022\n",
      "Epoch 40/50\n",
      "98/98 [==============================] - 0s 1ms/step - loss: 0.0021\n",
      "Epoch 41/50\n",
      "98/98 [==============================] - 0s 1ms/step - loss: 0.0022\n",
      "Epoch 42/50\n",
      "98/98 [==============================] - 0s 1ms/step - loss: 0.0022\n",
      "Epoch 43/50\n",
      "98/98 [==============================] - 0s 1ms/step - loss: 0.0021\n",
      "Epoch 44/50\n",
      "98/98 [==============================] - 0s 1ms/step - loss: 0.0021\n",
      "Epoch 45/50\n",
      "98/98 [==============================] - 0s 1ms/step - loss: 0.0021\n",
      "Epoch 46/50\n",
      "98/98 [==============================] - 0s 1ms/step - loss: 0.0021\n",
      "Epoch 47/50\n",
      "98/98 [==============================] - 0s 1ms/step - loss: 0.0021\n",
      "Epoch 48/50\n",
      "98/98 [==============================] - 0s 1ms/step - loss: 0.0021\n",
      "Epoch 49/50\n",
      "98/98 [==============================] - 0s 1ms/step - loss: 0.0021\n",
      "Epoch 50/50\n",
      "98/98 [==============================] - 0s 1ms/step - loss: 0.0022\n"
     ]
    }
   ],
   "source": [
    "epochs = 50\n",
    "batch_size = 1\n",
    "\n",
    "history = model.fit(X_train, y_train, epochs=epochs, batch_size=1)"
   ]
  },
  {
   "cell_type": "code",
   "execution_count": 19,
   "id": "98ff7dc0",
   "metadata": {},
   "outputs": [],
   "source": [
    "# test with test data\n",
    "\n",
    "y_pred = model.predict(X_test)"
   ]
  },
  {
   "cell_type": "code",
   "execution_count": 20,
   "id": "b9340dd0",
   "metadata": {},
   "outputs": [],
   "source": [
    "# denormalize test result and ground truth\n",
    "\n",
    "y_pred = scaler.inverse_transform(y_pred)\n",
    "\n",
    "y_test = np.array(y_test).reshape(-1, 1)\n",
    "y_test = scaler.inverse_transform(y_test)"
   ]
  },
  {
   "cell_type": "code",
   "execution_count": 21,
   "id": "d6884286",
   "metadata": {},
   "outputs": [
    {
     "data": {
      "text/plain": [
       "array([[354.0655 ],\n",
       "       [419.16953],\n",
       "       [460.00012],\n",
       "       [461.87527],\n",
       "       [401.8233 ],\n",
       "       [346.21716],\n",
       "       [304.93356],\n",
       "       [335.41272],\n",
       "       [339.34302],\n",
       "       [317.71512],\n",
       "       [360.92422],\n",
       "       [347.19873],\n",
       "       [361.9033 ],\n",
       "       [431.61084],\n",
       "       [484.18982],\n",
       "       [497.0377 ],\n",
       "       [401.8233 ],\n",
       "       [357.98587],\n",
       "       [309.84875],\n",
       "       [336.39542],\n",
       "       [358.9655 ],\n",
       "       [341.30762],\n",
       "       [403.757  ],\n",
       "       [394.07422],\n",
       "       [417.24875],\n",
       "       [466.55292],\n",
       "       [535.64343],\n",
       "       [545.29865],\n",
       "       [458.12268],\n",
       "       [404.72324],\n",
       "       [360.92422],\n",
       "       [402.79034],\n",
       "       [414.36435],\n",
       "       [389.2199 ],\n",
       "       [416.28766],\n",
       "       [456.24295],\n",
       "       [466.55298],\n",
       "       [524.114  ],\n",
       "       [598.72424],\n",
       "       [585.4667 ],\n",
       "       [499.7737 ],\n",
       "       [456.24295]], dtype=float32)"
      ]
     },
     "execution_count": 21,
     "metadata": {},
     "output_type": "execute_result"
    }
   ],
   "source": [
    "y_pred"
   ]
  },
  {
   "cell_type": "code",
   "execution_count": 22,
   "id": "3c9aa24c",
   "metadata": {},
   "outputs": [
    {
     "data": {
      "text/plain": [
       "array([[422.],\n",
       "       [465.],\n",
       "       [467.],\n",
       "       [404.],\n",
       "       [347.],\n",
       "       [305.],\n",
       "       [336.],\n",
       "       [340.],\n",
       "       [318.],\n",
       "       [362.],\n",
       "       [348.],\n",
       "       [363.],\n",
       "       [435.],\n",
       "       [491.],\n",
       "       [505.],\n",
       "       [404.],\n",
       "       [359.],\n",
       "       [310.],\n",
       "       [337.],\n",
       "       [360.],\n",
       "       [342.],\n",
       "       [406.],\n",
       "       [396.],\n",
       "       [420.],\n",
       "       [472.],\n",
       "       [548.],\n",
       "       [559.],\n",
       "       [463.],\n",
       "       [407.],\n",
       "       [362.],\n",
       "       [405.],\n",
       "       [417.],\n",
       "       [391.],\n",
       "       [419.],\n",
       "       [461.],\n",
       "       [472.],\n",
       "       [535.],\n",
       "       [622.],\n",
       "       [606.],\n",
       "       [508.],\n",
       "       [461.],\n",
       "       [390.]])"
      ]
     },
     "execution_count": 22,
     "metadata": {},
     "output_type": "execute_result"
    }
   ],
   "source": [
    "y_test"
   ]
  },
  {
   "cell_type": "code",
   "execution_count": 23,
   "id": "a02d4eed",
   "metadata": {},
   "outputs": [
    {
     "data": {
      "image/png": "[encoded data removed]",
      "text/plain": [
       "<Figure size 432x288 with 1 Axes>"
      ]
     },
     "metadata": {
      "needs_background": "light"
     },
     "output_type": "display_data"
    }
   ],
   "source": [
    "# plot loss\n",
    "\n",
    "loss = history.history['loss']\n",
    "epochs = range(1, len(loss) + 1)\n",
    "\n",
    "plt.plot(epochs, loss, color='red', label='Training loss')\n",
    "plt.title('Training loss')\n",
    "plt.xlabel('Epochs')\n",
    "plt.ylabel('Loss')\n",
    "plt.legend()\n",
    "plt.show()"
   ]
  },
  {
   "cell_type": "code",
   "execution_count": 24,
   "id": "a6d86281",
   "metadata": {
    "scrolled": true
   },
   "outputs": [
    {
     "data": {
      "image/png": "[encoded data removed]",
      "text/plain": [
       "<Figure size 1008x360 with 1 Axes>"
      ]
     },
     "metadata": {
      "needs_background": "light"
     },
     "output_type": "display_data"
    }
   ],
   "source": [
    "# plot prediction compared with ground truth\n",
    "\n",
    "plt.figure(figsize=(14, 5))\n",
    "plt.plot(y_pred, color='blue', label='Real')\n",
    "plt.plot(y_test, color='orange', label='Predicted')\n",
    "plt.title('Training loss')\n",
    "plt.xlabel('Months')\n",
    "plt.ylabel('# Passengers')\n",
    "plt.legend()\n",
    "plt.show()"
   ]
  },
  {
   "cell_type": "code",
   "execution_count": null,
   "id": "9c671cd0",
   "metadata": {},
   "outputs": [],
   "source": []
  }
 ],
 "metadata": {
  "kernelspec": {
   "display_name": "Python 3",
   "language": "python",
   "name": "python3"
  },
  "language_info": {
   "codemirror_mode": {
    "name": "ipython",
    "version": 3
   },
   "file_extension": ".py",
   "mimetype": "text/x-python",
   "name": "python",
   "nbconvert_exporter": "python",
   "pygments_lexer": "ipython3",
   "version": "3.8.8"
  }
 },
 "nbformat": 4,
 "nbformat_minor": 5
}
