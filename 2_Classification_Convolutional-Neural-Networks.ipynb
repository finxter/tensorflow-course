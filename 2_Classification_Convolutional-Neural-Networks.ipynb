{
 "cells": [
  {
   "cell_type": "markdown",
   "id": "ead77fbd",
   "metadata": {},
   "source": [
    "# Classification: Convolutional Neural Networks"
   ]
  },
  {
   "cell_type": "markdown",
   "id": "ff93bc4b",
   "metadata": {},
   "source": [
    "To classify images from the CIFAR10 dataset into 10 categories using a neural network and a convolutional neural network. \n",
    "<br>\n",
    "Data source: https://www.cs.toronto.edu/~kriz/cifar.html\n",
    "<br>\n",
    "Useful links for visualization and in-depth explanation: \n",
    "- https://ujjwalkarn.me/2016/08/11/intuitive-explanation-convnets/\n",
    "- https://www.kaggle.com/amarjeet007/visualize-cnn-with-keras\n",
    "- https://github.com/codebasics/deep-learning-keras-tf-tutorial/blob/master/16_cnn_cifar10_small_image_classification/cnn_cifar10_dataset.ipynb\n",
    "- https://github.com/keras-team/keras/blob/4f2e65c385d60fa87bb143c6c506cbe428895f44/examples/cifar10_cnn.py"
   ]
  },
  {
   "cell_type": "markdown",
   "id": "8783ea23",
   "metadata": {},
   "source": [
    "Concepts:\n",
    "- Neural network vs convolutional neural network.\n",
    "- Tensor / Neuron / Kernel / Activation maps / Padding / Stride.\n",
    "- Non-linearity (ReLU, Sigmoid, Softmax).\n",
    "- Pooling (Max pool, mean pool) / Flatten / Dropout.\n",
    "- Classification/ Fully-connected layer."
   ]
  },
  {
   "cell_type": "markdown",
   "id": "6b2c53b6",
   "metadata": {},
   "source": [
    "# Install and Import Modules"
   ]
  },
  {
   "cell_type": "code",
   "execution_count": 1,
   "id": "641eebad",
   "metadata": {},
   "outputs": [
    {
     "name": "stdout",
     "output_type": "stream",
     "text": [
      "Requirement already satisfied: tensorflow in c:\\users\\nghwe\\anaconda3\\envs\\tensorflow-course-venv\\lib\\site-packages (2.5.0)\n",
      "Requirement already satisfied: keras-nightly~=2.5.0.dev in c:\\users\\nghwe\\anaconda3\\envs\\tensorflow-course-venv\\lib\\site-packages (from tensorflow) (2.5.0.dev2021032900)\n",
      "Requirement already satisfied: absl-py~=0.10 in c:\\users\\nghwe\\anaconda3\\envs\\tensorflow-course-venv\\lib\\site-packages (from tensorflow) (0.12.0)\n",
      "Requirement already satisfied: h5py~=3.1.0 in c:\\users\\nghwe\\anaconda3\\envs\\tensorflow-course-venv\\lib\\site-packages (from tensorflow) (3.1.0)\n",
      "Requirement already satisfied: wheel~=0.35 in c:\\users\\nghwe\\anaconda3\\envs\\tensorflow-course-venv\\lib\\site-packages (from tensorflow) (0.36.2)\n",
      "Requirement already satisfied: gast==0.4.0 in c:\\users\\nghwe\\anaconda3\\envs\\tensorflow-course-venv\\lib\\site-packages (from tensorflow) (0.4.0)\n",
      "Requirement already satisfied: tensorflow-estimator<2.6.0,>=2.5.0rc0 in c:\\users\\nghwe\\anaconda3\\envs\\tensorflow-course-venv\\lib\\site-packages (from tensorflow) (2.5.0)\n",
      "Requirement already satisfied: tensorboard~=2.5 in c:\\users\\nghwe\\anaconda3\\envs\\tensorflow-course-venv\\lib\\site-packages (from tensorflow) (2.5.0)\n",
      "Requirement already satisfied: astunparse~=1.6.3 in c:\\users\\nghwe\\anaconda3\\envs\\tensorflow-course-venv\\lib\\site-packages (from tensorflow) (1.6.3)\n",
      "Requirement already satisfied: numpy~=1.19.2 in c:\\users\\nghwe\\anaconda3\\envs\\tensorflow-course-venv\\lib\\site-packages (from tensorflow) (1.19.5)\n",
      "Requirement already satisfied: opt-einsum~=3.3.0 in c:\\users\\nghwe\\anaconda3\\envs\\tensorflow-course-venv\\lib\\site-packages (from tensorflow) (3.3.0)\n",
      "Requirement already satisfied: google-pasta~=0.2 in c:\\users\\nghwe\\anaconda3\\envs\\tensorflow-course-venv\\lib\\site-packages (from tensorflow) (0.2.0)\n",
      "Requirement already satisfied: grpcio~=1.34.0 in c:\\users\\nghwe\\anaconda3\\envs\\tensorflow-course-venv\\lib\\site-packages (from tensorflow) (1.34.1)\n",
      "Requirement already satisfied: flatbuffers~=1.12.0 in c:\\users\\nghwe\\anaconda3\\envs\\tensorflow-course-venv\\lib\\site-packages (from tensorflow) (1.12)\n",
      "Requirement already satisfied: six~=1.15.0 in c:\\users\\nghwe\\anaconda3\\envs\\tensorflow-course-venv\\lib\\site-packages (from tensorflow) (1.15.0)\n",
      "Requirement already satisfied: wrapt~=1.12.1 in c:\\users\\nghwe\\anaconda3\\envs\\tensorflow-course-venv\\lib\\site-packages (from tensorflow) (1.12.1)\n",
      "Requirement already satisfied: keras-preprocessing~=1.1.2 in c:\\users\\nghwe\\anaconda3\\envs\\tensorflow-course-venv\\lib\\site-packages (from tensorflow) (1.1.2)\n",
      "Requirement already satisfied: termcolor~=1.1.0 in c:\\users\\nghwe\\anaconda3\\envs\\tensorflow-course-venv\\lib\\site-packages (from tensorflow) (1.1.0)\n",
      "Requirement already satisfied: typing-extensions~=3.7.4 in c:\\users\\nghwe\\anaconda3\\envs\\tensorflow-course-venv\\lib\\site-packages (from tensorflow) (3.7.4.3)\n",
      "Requirement already satisfied: protobuf>=3.9.2 in c:\\users\\nghwe\\anaconda3\\envs\\tensorflow-course-venv\\lib\\site-packages (from tensorflow) (3.17.0)\n",
      "Requirement already satisfied: google-auth<2,>=1.6.3 in c:\\users\\nghwe\\anaconda3\\envs\\tensorflow-course-venv\\lib\\site-packages (from tensorboard~=2.5->tensorflow) (1.30.0)\n",
      "Requirement already satisfied: requests<3,>=2.21.0 in c:\\users\\nghwe\\anaconda3\\envs\\tensorflow-course-venv\\lib\\site-packages (from tensorboard~=2.5->tensorflow) (2.25.1)\n",
      "Requirement already satisfied: markdown>=2.6.8 in c:\\users\\nghwe\\anaconda3\\envs\\tensorflow-course-venv\\lib\\site-packages (from tensorboard~=2.5->tensorflow) (3.3.4)\n",
      "Requirement already satisfied: google-auth-oauthlib<0.5,>=0.4.1 in c:\\users\\nghwe\\anaconda3\\envs\\tensorflow-course-venv\\lib\\site-packages (from tensorboard~=2.5->tensorflow) (0.4.4)\n",
      "Requirement already satisfied: tensorboard-plugin-wit>=1.6.0 in c:\\users\\nghwe\\anaconda3\\envs\\tensorflow-course-venv\\lib\\site-packages (from tensorboard~=2.5->tensorflow) (1.8.0)\n",
      "Requirement already satisfied: tensorboard-data-server<0.7.0,>=0.6.0 in c:\\users\\nghwe\\anaconda3\\envs\\tensorflow-course-venv\\lib\\site-packages (from tensorboard~=2.5->tensorflow) (0.6.1)\n",
      "Requirement already satisfied: setuptools>=41.0.0 in c:\\users\\nghwe\\anaconda3\\envs\\tensorflow-course-venv\\lib\\site-packages (from tensorboard~=2.5->tensorflow) (52.0.0.post20210125)\n",
      "Requirement already satisfied: werkzeug>=0.11.15 in c:\\users\\nghwe\\anaconda3\\envs\\tensorflow-course-venv\\lib\\site-packages (from tensorboard~=2.5->tensorflow) (2.0.1)\n",
      "Requirement already satisfied: rsa<5,>=3.1.4 in c:\\users\\nghwe\\anaconda3\\envs\\tensorflow-course-venv\\lib\\site-packages (from google-auth<2,>=1.6.3->tensorboard~=2.5->tensorflow) (4.7.2)\n",
      "Requirement already satisfied: cachetools<5.0,>=2.0.0 in c:\\users\\nghwe\\anaconda3\\envs\\tensorflow-course-venv\\lib\\site-packages (from google-auth<2,>=1.6.3->tensorboard~=2.5->tensorflow) (4.2.2)\n",
      "Requirement already satisfied: pyasn1-modules>=0.2.1 in c:\\users\\nghwe\\anaconda3\\envs\\tensorflow-course-venv\\lib\\site-packages (from google-auth<2,>=1.6.3->tensorboard~=2.5->tensorflow) (0.2.8)\n",
      "Requirement already satisfied: requests-oauthlib>=0.7.0 in c:\\users\\nghwe\\anaconda3\\envs\\tensorflow-course-venv\\lib\\site-packages (from google-auth-oauthlib<0.5,>=0.4.1->tensorboard~=2.5->tensorflow) (1.3.0)\n",
      "Requirement already satisfied: pyasn1<0.5.0,>=0.4.6 in c:\\users\\nghwe\\anaconda3\\envs\\tensorflow-course-venv\\lib\\site-packages (from pyasn1-modules>=0.2.1->google-auth<2,>=1.6.3->tensorboard~=2.5->tensorflow) (0.4.8)\n",
      "Requirement already satisfied: chardet<5,>=3.0.2 in c:\\users\\nghwe\\anaconda3\\envs\\tensorflow-course-venv\\lib\\site-packages (from requests<3,>=2.21.0->tensorboard~=2.5->tensorflow) (4.0.0)\n",
      "Requirement already satisfied: idna<3,>=2.5 in c:\\users\\nghwe\\anaconda3\\envs\\tensorflow-course-venv\\lib\\site-packages (from requests<3,>=2.21.0->tensorboard~=2.5->tensorflow) (2.10)\n",
      "Requirement already satisfied: certifi>=2017.4.17 in c:\\users\\nghwe\\anaconda3\\envs\\tensorflow-course-venv\\lib\\site-packages (from requests<3,>=2.21.0->tensorboard~=2.5->tensorflow) (2020.12.5)\n",
      "Requirement already satisfied: urllib3<1.27,>=1.21.1 in c:\\users\\nghwe\\anaconda3\\envs\\tensorflow-course-venv\\lib\\site-packages (from requests<3,>=2.21.0->tensorboard~=2.5->tensorflow) (1.26.4)\n",
      "Requirement already satisfied: oauthlib>=3.0.0 in c:\\users\\nghwe\\anaconda3\\envs\\tensorflow-course-venv\\lib\\site-packages (from requests-oauthlib>=0.7.0->google-auth-oauthlib<0.5,>=0.4.1->tensorboard~=2.5->tensorflow) (3.1.0)\n",
      "Requirement already satisfied: matplotlib in c:\\users\\nghwe\\anaconda3\\envs\\tensorflow-course-venv\\lib\\site-packages (3.4.2)\n",
      "Requirement already satisfied: pillow>=6.2.0 in c:\\users\\nghwe\\anaconda3\\envs\\tensorflow-course-venv\\lib\\site-packages (from matplotlib) (8.2.0)\n",
      "Requirement already satisfied: numpy>=1.16 in c:\\users\\nghwe\\anaconda3\\envs\\tensorflow-course-venv\\lib\\site-packages (from matplotlib) (1.19.5)\n",
      "Requirement already satisfied: pyparsing>=2.2.1 in c:\\users\\nghwe\\anaconda3\\envs\\tensorflow-course-venv\\lib\\site-packages (from matplotlib) (2.4.7)\n",
      "Requirement already satisfied: kiwisolver>=1.0.1 in c:\\users\\nghwe\\anaconda3\\envs\\tensorflow-course-venv\\lib\\site-packages (from matplotlib) (1.3.1)\n",
      "Requirement already satisfied: python-dateutil>=2.7 in c:\\users\\nghwe\\anaconda3\\envs\\tensorflow-course-venv\\lib\\site-packages (from matplotlib) (2.8.1)\n",
      "Requirement already satisfied: cycler>=0.10 in c:\\users\\nghwe\\anaconda3\\envs\\tensorflow-course-venv\\lib\\site-packages (from matplotlib) (0.10.0)\n",
      "Requirement already satisfied: six in c:\\users\\nghwe\\anaconda3\\envs\\tensorflow-course-venv\\lib\\site-packages (from cycler>=0.10->matplotlib) (1.15.0)\n",
      "Requirement already satisfied: numpy in c:\\users\\nghwe\\anaconda3\\envs\\tensorflow-course-venv\\lib\\site-packages (1.19.5)\n",
      "Requirement already satisfied: scikit-learn in c:\\users\\nghwe\\anaconda3\\envs\\tensorflow-course-venv\\lib\\site-packages (0.24.2)\n",
      "Requirement already satisfied: joblib>=0.11 in c:\\users\\nghwe\\anaconda3\\envs\\tensorflow-course-venv\\lib\\site-packages (from scikit-learn) (1.0.1)\n",
      "Requirement already satisfied: threadpoolctl>=2.0.0 in c:\\users\\nghwe\\anaconda3\\envs\\tensorflow-course-venv\\lib\\site-packages (from scikit-learn) (2.1.0)\n",
      "Requirement already satisfied: scipy>=0.19.1 in c:\\users\\nghwe\\anaconda3\\envs\\tensorflow-course-venv\\lib\\site-packages (from scikit-learn) (1.6.3)\n",
      "Requirement already satisfied: numpy>=1.13.3 in c:\\users\\nghwe\\anaconda3\\envs\\tensorflow-course-venv\\lib\\site-packages (from scikit-learn) (1.19.5)\n"
     ]
    }
   ],
   "source": [
    "!pip install --upgrade tensorflow\n",
    "!pip install matplotlib\n",
    "!pip install numpy\n",
    "!pip install scikit-learn"
   ]
  },
  {
   "cell_type": "code",
   "execution_count": 2,
   "id": "098b6325",
   "metadata": {},
   "outputs": [],
   "source": [
    "import tensorflow as tf\n",
    "from tensorflow.keras import datasets\n",
    "from tensorflow.keras.utils import to_categorical\n",
    "from tensorflow.keras.models import Sequential\n",
    "from tensorflow.keras.layers import Dense, Dropout, Activation, Flatten, Conv2D, MaxPooling2D\n",
    "from tensorflow.keras.optimizers import RMSprop\n",
    "from sklearn.metrics import confusion_matrix , classification_report\n",
    "import matplotlib.pyplot as plt\n",
    "import numpy as np"
   ]
  },
  {
   "cell_type": "markdown",
   "id": "90b19675",
   "metadata": {},
   "source": [
    "# Load Dataset and Preproces Data"
   ]
  },
  {
   "cell_type": "code",
   "execution_count": 3,
   "id": "629304bc",
   "metadata": {},
   "outputs": [],
   "source": [
    "(X_train, y_train), (X_test, y_test) = datasets.cifar10.load_data()"
   ]
  },
  {
   "cell_type": "code",
   "execution_count": 4,
   "id": "f654df1c",
   "metadata": {},
   "outputs": [
    {
     "name": "stdout",
     "output_type": "stream",
     "text": [
      "X_train shape: (50000, 32, 32, 3)\n",
      "y_train shape: (50000, 1)\n",
      "X_test shape: (10000, 32, 32, 3)\n",
      "y_test shape: (10000, 1)\n"
     ]
    }
   ],
   "source": [
    "print(f\"X_train shape: {X_train.shape}\\ny_train shape: {y_train.shape}\\nX_test shape: {X_test.shape}\\ny_test shape: {y_test.shape}\")"
   ]
  },
  {
   "cell_type": "code",
   "execution_count": 5,
   "id": "fe2bb296",
   "metadata": {},
   "outputs": [
    {
     "data": {
      "text/plain": [
       "array([6], dtype=uint8)"
      ]
     },
     "execution_count": 5,
     "metadata": {},
     "output_type": "execute_result"
    }
   ],
   "source": [
    "y_train[0]"
   ]
  },
  {
   "cell_type": "code",
   "execution_count": 6,
   "id": "aa3fa137",
   "metadata": {},
   "outputs": [],
   "source": [
    "# all CIFAR-10 class names\n",
    "\n",
    "classes = ['airplane', 'automobile', 'bird', 'cat', 'deer', 'dog', 'frog', 'horse', 'ship', 'truck']"
   ]
  },
  {
   "cell_type": "code",
   "execution_count": 7,
   "id": "c60ad232",
   "metadata": {},
   "outputs": [
    {
     "data": {
      "text/plain": [
       "Text(0.5, 0, 'frog')"
      ]
     },
     "execution_count": 7,
     "metadata": {},
     "output_type": "execute_result"
    },
    {
     "data": {
      "image/png": "[encoded data removed]",
      "text/plain": [
       "<Figure size 432x288 with 1 Axes>"
      ]
     },
     "metadata": {
      "needs_background": "light"
     },
     "output_type": "display_data"
    }
   ],
   "source": [
    "plt.imshow(X_train[0])\n",
    "plt.xlabel(classes[int(y_train[0][0])])"
   ]
  },
  {
   "cell_type": "code",
   "execution_count": 8,
   "id": "9bcadde5",
   "metadata": {},
   "outputs": [],
   "source": [
    "# ont-hot encoding\n",
    "\n",
    "num_classes = 10\n",
    "y_train = to_categorical(y_train, num_classes)\n",
    "y_test = to_categorical(y_test, num_classes)"
   ]
  },
  {
   "cell_type": "code",
   "execution_count": 9,
   "id": "d74cf0b4",
   "metadata": {},
   "outputs": [
    {
     "data": {
      "text/plain": [
       "array([0., 0., 0., 0., 0., 0., 1., 0., 0., 0.], dtype=float32)"
      ]
     },
     "execution_count": 9,
     "metadata": {},
     "output_type": "execute_result"
    }
   ],
   "source": [
    "y_train[0]"
   ]
  },
  {
   "cell_type": "code",
   "execution_count": 10,
   "id": "eaa26357",
   "metadata": {},
   "outputs": [],
   "source": [
    "# normalize input data\n",
    "\n",
    "X_train = X_train.astype('float32')\n",
    "X_test = X_test.astype('float32')\n",
    "X_train /= 255\n",
    "X_test /= 255"
   ]
  },
  {
   "cell_type": "markdown",
   "id": "a8d5c7e4",
   "metadata": {},
   "source": [
    "# Train and Evaluate A Convolutional Neural Network Model"
   ]
  },
  {
   "cell_type": "code",
   "execution_count": 11,
   "id": "b194b5e3",
   "metadata": {},
   "outputs": [],
   "source": [
    "input_shape = (32, 32, 3)\n",
    "num_classes = 10"
   ]
  },
  {
   "cell_type": "code",
   "execution_count": 12,
   "id": "3f26104b",
   "metadata": {},
   "outputs": [],
   "source": [
    "model = Sequential()\n",
    "model.add(Conv2D(32, (3, 3), padding='same', input_shape=input_shape))\n",
    "model.add(Activation('relu'))\n",
    "model.add(Conv2D(32, (3, 3)))\n",
    "model.add(Activation('relu'))\n",
    "model.add(MaxPooling2D(pool_size=(2, 2)))\n",
    "model.add(Dropout(0.25))\n",
    "\n",
    "model.add(Conv2D(64, (3, 3), padding='same'))\n",
    "model.add(Activation('relu'))\n",
    "model.add(Conv2D(64, (3, 3)))\n",
    "model.add(Activation('relu'))\n",
    "model.add(MaxPooling2D(pool_size=(2, 2)))\n",
    "model.add(Dropout(0.25))\n",
    "\n",
    "model.add(Flatten())\n",
    "model.add(Dense(512))\n",
    "model.add(Activation('relu'))\n",
    "model.add(Dropout(0.5))\n",
    "model.add(Dense(num_classes))\n",
    "model.add(Activation('softmax'))"
   ]
  },
  {
   "cell_type": "code",
   "execution_count": 13,
   "id": "e2ffba31",
   "metadata": {},
   "outputs": [
    {
     "name": "stdout",
     "output_type": "stream",
     "text": [
      "Model: \"sequential\"\n",
      "_________________________________________________________________\n",
      "Layer (type)                 Output Shape              Param #   \n",
      "=================================================================\n",
      "conv2d (Conv2D)              (None, 32, 32, 32)        896       \n",
      "_________________________________________________________________\n",
      "activation (Activation)      (None, 32, 32, 32)        0         \n",
      "_________________________________________________________________\n",
      "conv2d_1 (Conv2D)            (None, 30, 30, 32)        9248      \n",
      "_________________________________________________________________\n",
      "activation_1 (Activation)    (None, 30, 30, 32)        0         \n",
      "_________________________________________________________________\n",
      "max_pooling2d (MaxPooling2D) (None, 15, 15, 32)        0         \n",
      "_________________________________________________________________\n",
      "dropout (Dropout)            (None, 15, 15, 32)        0         \n",
      "_________________________________________________________________\n",
      "conv2d_2 (Conv2D)            (None, 15, 15, 64)        18496     \n",
      "_________________________________________________________________\n",
      "activation_2 (Activation)    (None, 15, 15, 64)        0         \n",
      "_________________________________________________________________\n",
      "conv2d_3 (Conv2D)            (None, 13, 13, 64)        36928     \n",
      "_________________________________________________________________\n",
      "activation_3 (Activation)    (None, 13, 13, 64)        0         \n",
      "_________________________________________________________________\n",
      "max_pooling2d_1 (MaxPooling2 (None, 6, 6, 64)          0         \n",
      "_________________________________________________________________\n",
      "dropout_1 (Dropout)          (None, 6, 6, 64)          0         \n",
      "_________________________________________________________________\n",
      "flatten (Flatten)            (None, 2304)              0         \n",
      "_________________________________________________________________\n",
      "dense (Dense)                (None, 512)               1180160   \n",
      "_________________________________________________________________\n",
      "activation_4 (Activation)    (None, 512)               0         \n",
      "_________________________________________________________________\n",
      "dropout_2 (Dropout)          (None, 512)               0         \n",
      "_________________________________________________________________\n",
      "dense_1 (Dense)              (None, 10)                5130      \n",
      "_________________________________________________________________\n",
      "activation_5 (Activation)    (None, 10)                0         \n",
      "=================================================================\n",
      "Total params: 1,250,858\n",
      "Trainable params: 1,250,858\n",
      "Non-trainable params: 0\n",
      "_________________________________________________________________\n"
     ]
    }
   ],
   "source": [
    "model.summary()"
   ]
  },
  {
   "cell_type": "code",
   "execution_count": 14,
   "id": "aec7f6e2",
   "metadata": {},
   "outputs": [],
   "source": [
    "opt = RMSprop(learning_rate=0.0001, decay=1e-6)\n",
    "\n",
    "model.compile(optimizer=opt,\n",
    "              loss='categorical_crossentropy',\n",
    "              metrics=['accuracy'])"
   ]
  },
  {
   "cell_type": "code",
   "execution_count": 15,
   "id": "39907e7c",
   "metadata": {},
   "outputs": [
    {
     "name": "stdout",
     "output_type": "stream",
     "text": [
      "Epoch 1/10\n",
      "1563/1563 [==============================] - 438s 277ms/step - loss: 1.8459 - accuracy: 0.3238 - val_loss: 1.6229 - val_accuracy: 0.4215\n",
      "Epoch 2/10\n",
      "1563/1563 [==============================] - 407s 260ms/step - loss: 1.4932 - accuracy: 0.4592 - val_loss: 1.4000 - val_accuracy: 0.4901\n",
      "Epoch 3/10\n",
      "1563/1563 [==============================] - 380s 243ms/step - loss: 1.3588 - accuracy: 0.5133 - val_loss: 1.2638 - val_accuracy: 0.5468\n",
      "Epoch 4/10\n",
      "1563/1563 [==============================] - 263s 169ms/step - loss: 1.2609 - accuracy: 0.5522 - val_loss: 1.1383 - val_accuracy: 0.6008\n",
      "Epoch 5/10\n",
      "1563/1563 [==============================] - 310s 198ms/step - loss: 1.1797 - accuracy: 0.5823 - val_loss: 1.0990 - val_accuracy: 0.6098\n",
      "Epoch 6/10\n",
      "1563/1563 [==============================] - 292s 187ms/step - loss: 1.1133 - accuracy: 0.6048 - val_loss: 1.0878 - val_accuracy: 0.6140\n",
      "Epoch 7/10\n",
      "1563/1563 [==============================] - 349s 223ms/step - loss: 1.0572 - accuracy: 0.6278 - val_loss: 0.9727 - val_accuracy: 0.6595\n",
      "Epoch 8/10\n",
      "1563/1563 [==============================] - 299s 191ms/step - loss: 1.0067 - accuracy: 0.6435 - val_loss: 0.9198 - val_accuracy: 0.6771\n",
      "Epoch 9/10\n",
      "1563/1563 [==============================] - 224s 143ms/step - loss: 0.9684 - accuracy: 0.6612 - val_loss: 0.8942 - val_accuracy: 0.6879\n",
      "Epoch 10/10\n",
      "1563/1563 [==============================] - 222s 142ms/step - loss: 0.9322 - accuracy: 0.6728 - val_loss: 0.8968 - val_accuracy: 0.6906\n"
     ]
    }
   ],
   "source": [
    "epochs = 10\n",
    "batch_size = 32\n",
    "\n",
    "history = model.fit(X_train, y_train, epochs=epochs, batch_size=batch_size, validation_data=(X_test, y_test), shuffle=True)"
   ]
  },
  {
   "cell_type": "code",
   "execution_count": 16,
   "id": "3803f866",
   "metadata": {},
   "outputs": [],
   "source": [
    "# save model\n",
    "\n",
    "model.save('./cnn_model.h5')"
   ]
  },
  {
   "cell_type": "code",
   "execution_count": 17,
   "id": "0cbebf1c",
   "metadata": {},
   "outputs": [
    {
     "name": "stdout",
     "output_type": "stream",
     "text": [
      "313/313 [==============================] - 9s 28ms/step - loss: 0.8968 - accuracy: 0.6906\n",
      "Test loss: 0.8968452215194702\n",
      "Test accuracy: 0.6905999779701233\n"
     ]
    }
   ],
   "source": [
    "# evaluate: output loss and accuracy scores\n",
    "\n",
    "scores = model.evaluate(X_test, y_test)\n",
    "print(f\"Test loss: {scores[0]}\\nTest accuracy: {scores[1]}\")"
   ]
  },
  {
   "cell_type": "code",
   "execution_count": 18,
   "id": "72be4226",
   "metadata": {},
   "outputs": [
    {
     "name": "stdout",
     "output_type": "stream",
     "text": [
      "Predicted X_test[1]: ship\n"
     ]
    },
    {
     "data": {
      "text/plain": [
       "Text(0.5, 0, 'ship')"
      ]
     },
     "execution_count": 18,
     "metadata": {},
     "output_type": "execute_result"
    },
    {
     "data": {
      "image/png": "[encoded data removed]",
      "text/plain": [
       "<Figure size 432x288 with 1 Axes>"
      ]
     },
     "metadata": {
      "needs_background": "light"
     },
     "output_type": "display_data"
    }
   ],
   "source": [
    "# predict: output predicted class indices, not scores\n",
    "\n",
    "y_pred = model.predict(X_test)\n",
    "\n",
    "predicted_index = np.argmax(y_pred[1])\n",
    "predicted_class = classes[predicted_index]\n",
    "print(f\"Predicted X_test[1]: {predicted_class}\")\n",
    "\n",
    "plt.imshow(X_test[1])\n",
    "plt.xlabel(classes[np.argmax(y_test[1])])"
   ]
  },
  {
   "cell_type": "code",
   "execution_count": 19,
   "id": "f11267a2",
   "metadata": {},
   "outputs": [
    {
     "data": {
      "image/png": "[encoded data removed]",
      "text/plain": [
       "<Figure size 432x288 with 1 Axes>"
      ]
     },
     "metadata": {
      "needs_background": "light"
     },
     "output_type": "display_data"
    }
   ],
   "source": [
    "# plot losses\n",
    "\n",
    "loss = history.history['loss']\n",
    "val_loss = history.history['val_loss']\n",
    "epochs = range(1, len(loss) + 1)\n",
    "\n",
    "plt.plot(epochs, loss, color='red', label='Training loss')\n",
    "plt.plot(epochs, val_loss, color='green', label='Validation loss')\n",
    "plt.title('Training and validation loss')\n",
    "plt.xlabel('Epochs')\n",
    "plt.ylabel('Loss')\n",
    "plt.legend()\n",
    "plt.show()"
   ]
  },
  {
   "cell_type": "code",
   "execution_count": 20,
   "id": "598df82c",
   "metadata": {},
   "outputs": [
    {
     "data": {
      "image/png": "[encoded data removed]",
      "text/plain": [
       "<Figure size 432x288 with 1 Axes>"
      ]
     },
     "metadata": {
      "needs_background": "light"
     },
     "output_type": "display_data"
    }
   ],
   "source": [
    "# plot accuracies\n",
    "\n",
    "acc = history.history['accuracy']\n",
    "val_acc = history.history['val_accuracy']\n",
    "\n",
    "plt.plot(epochs, acc, color='red', label='Training acc')\n",
    "plt.plot(epochs, val_acc, color='green', label='Validation acc')\n",
    "plt.title('Training and validation accuracy')\n",
    "plt.xlabel('Epochs')\n",
    "plt.ylabel('Loss')\n",
    "plt.legend()\n",
    "plt.show()"
   ]
  },
  {
   "cell_type": "code",
   "execution_count": null,
   "id": "32c7a64c",
   "metadata": {},
   "outputs": [],
   "source": []
  }
 ],
 "metadata": {
  "kernelspec": {
   "display_name": "Python 3",
   "language": "python",
   "name": "python3"
  },
  "language_info": {
   "codemirror_mode": {
    "name": "ipython",
    "version": 3
   },
   "file_extension": ".py",
   "mimetype": "text/x-python",
   "name": "python",
   "nbconvert_exporter": "python",
   "pygments_lexer": "ipython3",
   "version": "3.8.8"
  }
 },
 "nbformat": 4,
 "nbformat_minor": 5
}
